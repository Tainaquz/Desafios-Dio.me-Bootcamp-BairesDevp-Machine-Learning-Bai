{
  "nbformat": 4,
  "nbformat_minor": 0,
  "metadata": {
    "colab": {
      "provenance": [],
      "authorship_tag": "ABX9TyN/ejtLunPxb+ml/RsYiUA2",
      "include_colab_link": true
    },
    "kernelspec": {
      "name": "python3",
      "display_name": "Python 3"
    },
    "language_info": {
      "name": "python"
    }
  },
  "cells": [
    {
      "cell_type": "markdown",
      "metadata": {
        "id": "view-in-github",
        "colab_type": "text"
      },
      "source": [
        "<a href=\"https://colab.research.google.com/github/Tainaquz/Desafios-Dio.me-Bootcamp-BairesDevp-Machine-Learning-Bai/blob/main/transformando_texto_em_audio.ipynb\" target=\"_parent\"><img src=\"https://colab.research.google.com/assets/colab-badge.svg\" alt=\"Open In Colab\"/></a>"
      ]
    },
    {
      "cell_type": "markdown",
      "source": [
        "Transformando texto em audio"
      ],
      "metadata": {
        "id": "sZVd3Ug4vTvs"
      }
    },
    {
      "cell_type": "code",
      "source": [
        "!pip install gTTS\n"
      ],
      "metadata": {
        "id": "m8g9hnQhsNdA"
      },
      "execution_count": null,
      "outputs": []
    },
    {
      "cell_type": "code",
      "source": [
        "from gtts import gTTS\n",
        "from IPython.display import Audio\n",
        "import webbrowser\n",
        "\n",
        "# Texto a ser falado\n",
        "texto_falado = \"Abrindo o YouTube\"\n",
        "linguagem = \"pt\"\n",
        "tts = gTTS(texto_falado, lang=linguagem)\n",
        "tts.save(\"falado.mp3\")\n",
        "display(Audio(\"falado.mp3\", autoplay=True))\n",
        "\n"
      ],
      "metadata": {
        "id": "_Z0iudFguoVT"
      },
      "execution_count": null,
      "outputs": []
    }
  ]
}